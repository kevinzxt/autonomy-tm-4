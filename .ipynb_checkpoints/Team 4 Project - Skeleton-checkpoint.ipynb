{
 "cells": [
  {
   "cell_type": "markdown",
   "metadata": {},
   "source": [
    "### Introduction to Trajectory Optimization\n",
    "- Introduce dynamics equations As + Bu = z\n",
    "- Single obstacle encoding as constraints\n",
    "- Speed limit\n",
    "\n",
    "#### Introduce simple problem\n",
    "- single vehicle, treated as a point\n",
    "- single obstacle\n",
    "- start & end goal\n",
    "- objective function: minimize time"
   ]
  },
  {
   "cell_type": "markdown",
   "metadata": {},
   "source": [
    "**Dynamics equations:** \n",
    "\n",
    "In this part, we will incorporate robot dynamics, time (arrival) constraints. The initial location, goal locations, the geometry of factory and obstacles, and vehicle speed limits are the inputs. In this case, we assume that the robots always move at the top speed to meet the time constraints. And the effect of acceleration is ignored, which means that the robot can always move at the desired velocity at a given time. And all the physical parameters of the robots are the same. \n",
    "\n",
    "Under these assumptions, the only dynamic equation can be written as:\n",
    "\n",
    "$$ s = u*t $$\n",
    "\n",
    "where s is the distance the robot can travel; u is the max velocity; and t is the time duration. And it can be translated into the matrix form:\n",
    "\n",
    "$$  \\begin{pmatrix}x_{i+1}\\\\y_{i+1}\\\\\\dot{x}_{i+1}\\\\\\dot{y}_{i+1}\\end{pmatrix} = \\begin{pmatrix}1&0& \\bigtriangleup t &0\\\\0&1&0&\\bigtriangleup t\\\\0&0&1&0\\\\0&0&0&1\\end{pmatrix}  \\begin{pmatrix}x_{i}\\\\y_{i}\\\\\\dot{x}_{i}\\\\\\dot{y}_{i}\\end{pmatrix}$$\n"
   ]
  },
  {
   "cell_type": "markdown",
   "metadata": {},
   "source": [
    "**Obstacle encoding as constraints**\n",
    "\n",
    "Since all the obstacles in this problem are stationary, we can easily encode arbitrarily shaped obstacles using constraints. And exactly 1 of them must be applied. And the concave shape can be dealt with by chopping them into multiple convex objects. \n",
    "\n",
    "For example, if the obstacle is a square shaped by [X_min, X_max] and [Y_min, Y_max]. The obstacle can be expressed by: \n",
    "\n",
    "$$  \\forall i  \\in [1,2,3,...,]:$$\n",
    "$$ x_i <=x_{min}$$\n",
    "or $$  x_i >=x_{max}$$\n",
    "or $$ y_i <=y_{min}$$\n",
    "or $$  y_i >=y_{max}$$\n",
    "\n",
    "And for the workstations in this task formed by straight lines, the constraints can be expressed with the line function for each edge."
   ]
  },
  {
   "cell_type": "markdown",
   "metadata": {},
   "source": [
    "**The speed limit**\n",
    "\n",
    "The speed limit in this case is provided by the problem for each robot. And we assume that the robots move at the max allowed speed provided. "
   ]
  },
  {
   "cell_type": "code",
   "execution_count": null,
   "metadata": {},
   "outputs": [],
   "source": []
  },
  {
   "cell_type": "markdown",
   "metadata": {},
   "source": [
    "### Space Station Problem Introduction\n",
    "- Go thru same steps as above\n",
    "- Intro multi-vehicle problem\n",
    "    - Collision avoidance\n",
    "    - Each waypoint visited by only one vehicle"
   ]
  },
  {
   "cell_type": "markdown",
   "metadata": {},
   "source": [
    "In the real space station problem, it is a little different from the simplified problem above. The number of robots is bigger than 1, which means that we need to add dynamic equations and constrait equations for each robot. One of the big change here is the non-collision constraint, which can be formalized by that all the robot pairs keep a minimum distance accoding their own coordination. But the process to solve the problem is relatively similar as the one we use in the simplified problem."
   ]
  },
  {
   "cell_type": "code",
   "execution_count": null,
   "metadata": {},
   "outputs": [],
   "source": []
  },
  {
   "cell_type": "markdown",
   "metadata": {},
   "source": [
    "### Encoding of Problem - MIQCP\n",
    "\n",
    "Since the speed limit is given, the distance traveled in a given time step is a quadratic constraint. \n",
    "\n",
    "Thus the whole problem can be encoded as a motion planning problem based on MIQCP with the constriant of speed limitation, time limitation (termination constraint), non-collision constraint, obstacle constraint with the objective function of time to finish the whole task. "
   ]
  },
  {
   "cell_type": "code",
   "execution_count": null,
   "metadata": {},
   "outputs": [],
   "source": []
  }
 ],
 "metadata": {
  "kernelspec": {
   "display_name": "Python 3",
   "language": "python",
   "name": "python3"
  },
  "language_info": {
   "codemirror_mode": {
    "name": "ipython",
    "version": 3
   },
   "file_extension": ".py",
   "mimetype": "text/x-python",
   "name": "python",
   "nbconvert_exporter": "python",
   "pygments_lexer": "ipython3",
   "version": "3.7.1"
  }
 },
 "nbformat": 4,
 "nbformat_minor": 2
}
