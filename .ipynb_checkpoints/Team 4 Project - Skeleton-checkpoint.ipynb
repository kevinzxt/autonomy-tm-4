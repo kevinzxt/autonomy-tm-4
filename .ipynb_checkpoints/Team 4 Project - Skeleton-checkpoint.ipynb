{
 "cells": [
  {
   "cell_type": "code",
   "execution_count": 4,
   "metadata": {},
   "outputs": [
    {
     "name": "stdout",
     "output_type": "stream",
     "text": [
      "The autoreload extension is already loaded. To reload it, use:\n",
      "  %reload_ext autoreload\n"
     ]
    }
   ],
   "source": [
    "%load_ext autoreload\n",
    "%autoreload 2\n",
    "%matplotlib inline\n",
    "from matplotlib import pyplot as plt\n",
    "import numpy as np\n",
    "from shapely.geometry import Point, Polygon, LineString, box\n",
    "from environment import Environment, plot_environment, plot_line, plot_poly\n",
    "import pyclipper"
   ]
  },
  {
   "cell_type": "markdown",
   "metadata": {},
   "source": [
    "# Project 4 - Motion Planning"
   ]
  },
  {
   "cell_type": "markdown",
   "metadata": {},
   "source": [
    "### Introduction to Trajectory Optimization\n",
    "- Introduce dynamics equations As + Bu = z\n",
    "- Single obstacle encoding as constraints\n",
    "    - Demonstrate creating a convex polygon bound\n",
    "    - Show constraint formulation for OR constraints using big M notation\n",
    "- Speed limit\n",
    "    - Quadratic constraint on s'\n",
    "\n",
    "## Simple Robot Path Planning - Single Obstacle\n",
    "\n",
    "We'll start by considering a simplified version of our ultimate problem, and examine constraint-based path planning throgh a single-obstacle environment to reach a single goal. In an 8x8 unit environment, we define our problem conditions as follows:\n",
    "\n",
    "- Robot Start Point: `(1,1)`\n",
    "- Goal Region: Rectangle region bounded by `[(6,6), (6,7), (7,7), (7, 6)]`\n",
    "- Obstacles: Single obstacle bounded by `[(3,2), (2,5), (6,3)]`\n",
    "\n",
    "Our goal will be to minimize distance traveled.\n",
    "\n",
    "Run the code in the next cell to preview the starting environment.\n",
    "\n"
   ]
  },
  {
   "cell_type": "code",
   "execution_count": 5,
   "metadata": {},
   "outputs": [
    {
     "name": "stdout",
     "output_type": "stream",
     "text": [
      "(5.5, 5.5)\n"
     ]
    },
    {
     "data": {
      "image/png": "[encoded data removed]",
      "text/plain": [
       "<Figure size 396x396 with 1 Axes>"
      ]
     },
     "metadata": {
      "needs_background": "light"
     },
     "output_type": "display_data"
    }
   ],
   "source": [
    "# Sample Problem\n",
    "obstacles = [(3,2), (2,5), (6,3)]\n",
    "start = (1,1)\n",
    "goal = [(6,6), (6,7), (7,7), (7, 6)]\n",
    "\n",
    "env = Environment(None)\n",
    "env.add_obstacles([Polygon(obstacles)])\n",
    "bounds = (0, 0, 8, 8)\n",
    "ax = plot_environment(env, bounds=bounds)\n",
    "start_point = Point(start).buffer(0.4, resolution=3)\n",
    "goal_region = Polygon(goal)\n",
    "plot_poly(ax, start_point,'magenta')\n",
    "plot_poly(ax, goal_region,'green')"
   ]
  },
  {
   "cell_type": "markdown",
   "metadata": {},
   "source": [
    "In order to simplify the problem, we would like to treat our robot as a point object. To do this, we add a buffer, equal to the robot's radius, to every obstacle in the environment. This allows us to consider the robot as a point, rather than a moving area, and still take into account the robot's size to avoid collision with obstacles. \n",
    "\n",
    "To make this easy, we'll use the `pyclipper` package to create the buffer. The example code below performs this task for our example environment and obstacle:"
   ]
  },
  {
   "cell_type": "code",
   "execution_count": 6,
   "metadata": {},
   "outputs": [
    {
     "name": "stdout",
     "output_type": "stream",
     "text": [
      "(5.5, 5.5)\n",
      "Buffered Obstacles: \n",
      " [[[6.521310369484127, 2.9629516126587987], [1.6575750685296953, 5.394819263368845], [2.8735088938847184, 1.7470177877694368]]]\n"
     ]
    },
    {
     "data": {
      "image/png": "[encoded data removed]",
      "text/plain": [
       "<Figure size 396x396 with 1 Axes>"
      ]
     },
     "metadata": {
      "needs_background": "light"
     },
     "output_type": "display_data"
    }
   ],
   "source": [
    "# Redefine obstacles with radius of droid; treat droid as a point robot\n",
    "obs = (obstacles)\n",
    "pco = pyclipper.PyclipperOffset()\n",
    "pco.MiterLimit = 10\n",
    "pco.AddPath(pyclipper.scale_to_clipper(obs), pyclipper.JT_MITER, pyclipper.ET_CLOSEDPOLYGON)\n",
    "buff_obs = pyclipper.scale_from_clipper(pco.Execute(pyclipper.scale_to_clipper(.2)))\n",
    "\n",
    "env = Environment(None)\n",
    "env.add_obstacles([Polygon(buff_obs[0])])\n",
    "bounds = (0, 0, 8, 8)\n",
    "ax = plot_environment(env, bounds=bounds)\n",
    "start_point = Point(start).buffer(0.1, resolution=3)\n",
    "goal_region = Polygon(goal)\n",
    "plot_poly(ax, start_point,'magenta')\n",
    "plot_poly(ax, goal_region,'green')\n",
    "\n",
    "print('Buffered Obstacles: \\n', buff_obs)"
   ]
  },
  {
   "cell_type": "markdown",
   "metadata": {},
   "source": [
    "**Dynamics equations:** \n",
    "\n",
    "In this part, we will incorporate robot dynamics, time (arrival) constraints. The initial location, goal locations, the geometry of factory and obstacles, and vehicle speed limits are the inputs. In this case, we assume that the robots always move at the top speed to meet the time constraints. And the effect of acceleration is ignored, which means that the robot can always move at the desired velocity at a given time. And all the physical parameters of the robots are the same. \n",
    "\n",
    "Under these assumptions, the only dynamic equation can be written as:\n",
    "\n",
    "$$ s = u*t $$\n",
    "\n",
    "where s is the distance the robot can travel; u is the max velocity; and t is the time duration. And it can be translated into the matrix form:\n",
    "\n",
    "$$  \\begin{pmatrix}x_{i+1}\\\\y_{i+1}\\\\\\dot{x}_{i+1}\\\\\\dot{y}_{i+1}\\end{pmatrix} = \\begin{pmatrix}1&0& \\bigtriangleup t &0\\\\0&1&0&\\bigtriangleup t\\\\0&0&1&0\\\\0&0&0&1\\end{pmatrix}  \\begin{pmatrix}x_{i}\\\\y_{i}\\\\\\dot{x}_{i}\\\\\\dot{y}_{i}\\end{pmatrix}$$\n"
   ]
  },
  {
   "cell_type": "markdown",
   "metadata": {},
   "source": [
    "**Obstacle encoding as constraints**\n",
    "\n",
    "Since all the obstacles in this problem are stationary, we can easily encode arbitrarily shaped obstacles using constraints. And exactly 1 of them must be applied. And the concave shape can be dealt with by chopping them into multiple convex objects, or by setting a convex boundary that encompasses the entire shape.\n",
    "\n",
    "For example, if the obstacle is a square shaped by [X_min, X_max] and [Y_min, Y_max]. The obstacle can be expressed by: \n",
    "\n",
    "$$  \\forall i  \\in [1,2,3,...,]:$$\n",
    "$$ x_i <=x_{min}$$\n",
    "or $$ x_i >=x_{max}$$\n",
    "or $$ y_i <=y_{min}$$\n",
    "or $$  y_i >=y_{max}$$\n",
    "\n",
    "And for the workstations in this task formed by straight lines, the constraints can be expressed with the line function for each edge.\n",
    "\n",
    "### Next we must reformulate these constraints to get rid of the \"OR\" statements, as this would make the program non-linear\n",
    "\n",
    "- Do this here, using big M notation as shown in lecture slides"
   ]
  },
  {
   "cell_type": "markdown",
   "metadata": {},
   "source": [
    "**The speed limit**\n",
    "\n",
    "The speed limit in this case is provided by the problem for each robot. And we assume that the robots move at the max allowed speed provided. "
   ]
  },
  {
   "cell_type": "code",
   "execution_count": null,
   "metadata": {},
   "outputs": [],
   "source": []
  },
  {
   "cell_type": "markdown",
   "metadata": {},
   "source": [
    "### Space Station Problem Introduction\n",
    "- Go through same steps as above\n",
    "- Introduce multi-vehicle problem\n",
    "    - Collision avoidance\n",
    "    - Each waypoint visited by only one vehicle"
   ]
  },
  {
   "cell_type": "markdown",
   "metadata": {},
   "source": [
    "In the real space station problem, it is a little different from the simplified problem above. The number of robots is bigger than 1, which means that we need to add dynamic equations and constrait equations for each robot. One of the big change here is the non-collision constraint, which can be formalized by that all the robot pairs keep a minimum distance accoding their own coordination. But the process to solve the problem is relatively similar as the one we use in the simplified problem."
   ]
  },
  {
   "cell_type": "code",
   "execution_count": null,
   "metadata": {},
   "outputs": [],
   "source": []
  },
  {
   "cell_type": "markdown",
   "metadata": {},
   "source": [
    "### Encoding of Problem - MIQCP\n",
    "\n",
    "Since the speed limit is given, the distance traveled in a given time step is a quadratic constraint. \n",
    "\n",
    "Thus the whole problem can be encoded as a motion planning problem based on MIQCP with the constriant of speed limitation, time limitation (termination constraint), non-collision constraint, obstacle constraint with the objective function of time to finish the whole task. "
   ]
  },
  {
   "cell_type": "code",
   "execution_count": null,
   "metadata": {},
   "outputs": [],
   "source": []
  },
  {
   "cell_type": "markdown",
   "metadata": {},
   "source": [
    "## Outstanding Questions\n",
    "- What is the data structure we will be using for obstacles, paths, etc? Similar to HW6?\n",
    "- Are workstations that are not the current goal to be treated as obstacles?\n",
    "- Objective function = minimize time?\n",
    "- Multiple droids? These must avoid eachother while moving, right? How many?\n",
    "- Are we ignoring acceleration, and only considering velocity? So robots are stopped or traveling at max speed at all times?\n",
    "- Which solver are we using?\n"
   ]
  },
  {
   "cell_type": "code",
   "execution_count": null,
   "metadata": {},
   "outputs": [],
   "source": []
  }
 ],
 "metadata": {
  "kernelspec": {
   "display_name": "Python 3",
   "language": "python",
   "name": "python3"
  },
  "language_info": {
   "codemirror_mode": {
    "name": "ipython",
    "version": 3
   },
   "file_extension": ".py",
   "mimetype": "text/x-python",
   "name": "python",
   "nbconvert_exporter": "python",
   "pygments_lexer": "ipython3",
   "version": "3.7.1"
  }
 },
 "nbformat": 4,
 "nbformat_minor": 2
}
