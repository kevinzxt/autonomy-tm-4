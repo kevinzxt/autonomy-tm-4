{
 "cells": [
  {
   "cell_type": "markdown",
   "metadata": {},
   "source": [
    "### Introduction to Trajectory Optimization\n",
    "- Introduce dynamics equations As + Bu = z\n",
    "- Single obstacle encoding as constraints\n",
    "- Speed limit\n",
    "\n",
    "#### Introduce simple problem\n",
    "- single vehicle, treated as a point\n",
    "- single obstacle\n",
    "- start & end goal\n",
    "- objective function: minimize time"
   ]
  },
  {
   "cell_type": "code",
   "execution_count": null,
   "metadata": {},
   "outputs": [],
   "source": []
  },
  {
   "cell_type": "markdown",
   "metadata": {},
   "source": [
    "### Space Station Problem Introduction\n",
    "- Go thru same steps as above\n",
    "- Intro multi-vehicle problem\n",
    "    - Collision avoidance\n",
    "    - Each waypoint visited by only one vehicle"
   ]
  },
  {
   "cell_type": "code",
   "execution_count": null,
   "metadata": {},
   "outputs": [],
   "source": []
  },
  {
   "cell_type": "markdown",
   "metadata": {},
   "source": [
    "### Encoding of Problem - MIQCP"
   ]
  },
  {
   "cell_type": "code",
   "execution_count": null,
   "metadata": {},
   "outputs": [],
   "source": []
  }
 ],
 "metadata": {
  "kernelspec": {
   "display_name": "Python 3",
   "language": "python",
   "name": "python3"
  },
  "language_info": {
   "codemirror_mode": {
    "name": "ipython",
    "version": 3
   },
   "file_extension": ".py",
   "mimetype": "text/x-python",
   "name": "python",
   "nbconvert_exporter": "python",
   "pygments_lexer": "ipython3",
   "version": "3.7.1"
  }
 },
 "nbformat": 4,
 "nbformat_minor": 2
}
